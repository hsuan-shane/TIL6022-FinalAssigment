{
 "cells": [
  {
   "cell_type": "markdown",
   "id": "f397910b",
   "metadata": {},
   "source": [
    "#                The Influence of the Weather on Travel Behaviour in the Netherlands\n",
    "### Project Group 04"
   ]
  },
  {
   "cell_type": "markdown",
   "id": "765da68c",
   "metadata": {},
   "source": [
    "*Members and Student Numbers:*\n",
    "\n",
    "Hsuan-An Chu: 5914647\\\n",
    "Jarrik Overbosch: 6105734\\\n",
    "Mats Poppe: 5883245\\\n",
    "Cian Rippen: 5054141\\\n",
    "Sam Terstappen: 6078720\n",
    "\n"
   ]
  },
  {
   "cell_type": "markdown",
   "id": "921ebf23",
   "metadata": {},
   "source": [
    "## 1. Introduction\n",
    "\n",
    "The Netherlands is a country known for its efficient transportation system and its dynamic weather patterns. The interplay between these two elements often goes unnoticed, yet it has a profound impact on the daily routines and travel behaviors of its residents. Understanding how weather influences travel behavior holds practical significance for transportation planning and climate adaptation. This report delves into the relationship between weather conditions and travel choices, seeking to answer critical questions about how the Dutch people adapt their travel behaviors in response to varying weather conditions.\n",
    "\n",
    "This study focuses on two primary domains: public transportation and road traffic. We aim to explore the extent to which these weather variables impact the number of passengers using public transport services, as recorded through OV chipcard check-ins. Additionally, we seek to ascertain how these weather conditions affect road traffic, with an emphasis on traffic congestion. Moreover, we aim to investigate potential variations in travel behavior between urban and rural areas, recognizing that the geography and infrastructure of different regions may influence the choices people make when it comes to commuting."
   ]
  },
  {
   "cell_type": "markdown",
   "id": "3944e6b5",
   "metadata": {},
   "source": [
    "## 2. Research Objective\n",
    "\n",
    "*The research objective is to investigate the impact of various weather factors, including precipitation, temperature, wind speed, rain duration, rain amount, and visibility, on travel behavior in the Netherlands, with a specific focus on public transportation usage, road traffic patterns, the correlation with congestion, and potential variations in behavior between urban and rural areas*.\n",
    "\n",
    "###### SMART Criteria \n",
    "#### Specific:\n",
    "The research objective precisely defines the scope and nature of the study, focusing on the specific influence of multiple weather variables on travel behavior in the Netherlands.\n",
    "#### Measurable:\n",
    "The objective is quantifiable, as it seeks to measure the impact of weather factors on travel behavior through observable and recorded data.\n",
    "#### Achievable:\n",
    "It is realistic to investigate the relationship between weather and travel behavior, considering the available resources and the feasibility of data collection and analysis.\n",
    "#### Relevant:\n",
    "This research is highly relevant in the context of transportation planning and climate adaptation, addressing a critical issue with practical implications.\n",
    "#### Time-bound: \n",
    "While not explicitly stated, the research is likely conducted within a defined timeframe of one month, ensuring it progresses in an organized and timely manner.\n",
    "\n",
    "\n"
   ]
  },
  {
   "cell_type": "markdown",
   "id": "40d2b94f",
   "metadata": {},
   "source": [
    "## What is the influence of the weather on travel behaviour in The Netherlands?\n",
    "* What is the effect of weather on the amount of public transport passengers, based on OV chipcard checkins? And is there a correlation?\n",
    "* Is there a difference in public transport behaviour between weekdays and weekend?\n",
    "* What is the effect of weather on road traffic, based on highway congestion data?  And is there a correlation?\n",
    "* Is there a difference in road traffic behaviour between weekdays and weekend?\n",
    "* Is there a difference in road behaviour between Randstad and Area out side of Randstad?\n",
    "\n",
    "\n",
    "(These maybe need some adjustments in the way they are formulated)"
   ]
  },
  {
   "cell_type": "markdown",
   "id": "9830dbb4",
   "metadata": {},
   "source": [
    "## 3. Data Pipeline\n",
    "(Explain what data we used and why)\n"
   ]
  },
  {
   "cell_type": "markdown",
   "id": "54239a22",
   "metadata": {},
   "source": [
    "### Packages"
   ]
  },
  {
   "cell_type": "markdown",
   "id": "f637619a",
   "metadata": {},
   "source": [
    "For this project, a number of packages are used for data processing and displaying of the results. They are imported below. "
   ]
  },
  {
   "cell_type": "code",
   "execution_count": 4,
   "id": "9b1d9f73",
   "metadata": {},
   "outputs": [
    {
     "ename": "ModuleNotFoundError",
     "evalue": "No module named 'shapely'",
     "output_type": "error",
     "traceback": [
      "\u001b[1;31m---------------------------------------------------------------------------\u001b[0m",
      "\u001b[1;31mModuleNotFoundError\u001b[0m                       Traceback (most recent call last)",
      "Cell \u001b[1;32mIn[4], line 6\u001b[0m\n\u001b[0;32m      4\u001b[0m \u001b[38;5;28;01mimport\u001b[39;00m \u001b[38;5;21;01mplotly\u001b[39;00m\u001b[38;5;21;01m.\u001b[39;00m\u001b[38;5;21;01mgraph_objects\u001b[39;00m \u001b[38;5;28;01mas\u001b[39;00m \u001b[38;5;21;01mgo\u001b[39;00m\n\u001b[0;32m      5\u001b[0m \u001b[38;5;66;03m#import geopandas as gpd\u001b[39;00m\n\u001b[1;32m----> 6\u001b[0m \u001b[38;5;28;01mfrom\u001b[39;00m \u001b[38;5;21;01mshapely\u001b[39;00m\u001b[38;5;21;01m.\u001b[39;00m\u001b[38;5;21;01mgeometry\u001b[39;00m \u001b[38;5;28;01mimport\u001b[39;00m MultiPolygon\n\u001b[0;32m      7\u001b[0m \u001b[38;5;28;01mfrom\u001b[39;00m \u001b[38;5;21;01mplotly\u001b[39;00m\u001b[38;5;21;01m.\u001b[39;00m\u001b[38;5;21;01moffline\u001b[39;00m \u001b[38;5;28;01mimport\u001b[39;00m plot\n\u001b[0;32m      8\u001b[0m \u001b[38;5;28;01mfrom\u001b[39;00m \u001b[38;5;21;01mplotly\u001b[39;00m\u001b[38;5;21;01m.\u001b[39;00m\u001b[38;5;21;01msubplots\u001b[39;00m \u001b[38;5;28;01mimport\u001b[39;00m make_subplots\n",
      "\u001b[1;31mModuleNotFoundError\u001b[0m: No module named 'shapely'"
     ]
    }
   ],
   "source": [
    "import pandas as pd\n",
    "import numpy as np\n",
    "import plotly.express as px\n",
    "import plotly.graph_objects as go\n",
    "import geopandas as gpd\n",
    "from shapely.geometry import MultiPolygon\n",
    "from plotly.offline import plot\n",
    "from plotly.subplots import make_subplots"
   ]
  },
  {
   "cell_type": "markdown",
   "id": "d4692fd0",
   "metadata": {},
   "source": [
    "### Weather Data"
   ]
  },
  {
   "cell_type": "markdown",
   "id": "f0431fe7",
   "metadata": {},
   "source": [
    "Weather data from the Royal Netherlands Meteorological Institute (KNMI) is used. For the report, we've selected 3 main weather types for our analysis, which are Rain amount per hour (RH), Average windspeed per hour (FG), and Temperature(TG)."
   ]
  },
  {
   "cell_type": "code",
   "execution_count": null,
   "id": "85d45006",
   "metadata": {},
   "outputs": [],
   "source": [
    "#reading weather data\n",
    "df_weather = pd.read_csv(\"Literature and data/KNMI_daily_0123-0923.csv\")\n",
    "df_weather.columns = df_weather.columns.str.strip()\n",
    "df_station_name = pd.read_csv(\"Literature and data/KNMI_station.csv\")\n",
    "df_station_name.columns = df_station_name.columns.str.strip()\n",
    "df_weather.head()"
   ]
  },
  {
   "cell_type": "markdown",
   "id": "816febaf",
   "metadata": {},
   "source": [
    "As can be seen from the head of dataframe above, some weather stations do not collect every type of weather datas. To comfirm there is enough data coverage of the whole Netherlands, a map of all the weather station and their ability to collect precepitation data is graphed. "
   ]
  },
  {
   "cell_type": "code",
   "execution_count": null,
   "id": "1450108d",
   "metadata": {},
   "outputs": [],
   "source": [
    "#plotting the weather stations\n",
    "df_weather.rename(columns={\"# STN\":\"STN\"}, inplace=True)\n",
    "df_station_name.columns = df_station_name.columns.str.strip()\n",
    "df_weather[\"STN\"].astype(int)\n",
    "df_station_name[\"STN\"].astype(int)\n",
    "\n",
    "df_station_data = df_station_name.merge(df_weather, on=\"STN\")\n",
    "df_station_data.drop_duplicates(subset=\"STN\",inplace=True)\n",
    "df_station_data[\"RH\"] = pd.to_numeric(df_station_data[\"RH\"], errors=\"coerce\")\n",
    "df_station_data[\"hasraindata\"] = np.where(df_station_data[\"RH\"]>=0, True, False)\n",
    "df_station_data = df_station_data.iloc[:,[0,1,2,3,4,12]]\n",
    "df_station_data.drop_duplicates(inplace=True)\n",
    "\n",
    "px.set_mapbox_access_token(\"pk.eyJ1IjoiaHN1YW4tc2hhbmUiLCJhIjoiY2xvMnB3b2NqMDl3YzJpbW56eWxnNHRrNSJ9.zJi-0PqhXOPzbqZ973FdxA\")\n",
    "fig = px.scatter_mapbox(df_station_data, lat=\"LAT(north)\", lon=\"LON(east)\", color=\"hasraindata\", zoom = 5, hover_name=\"NAME\", labels={\"hasraindata\":\"Rain data collection\"})\n",
    "fig.update_layout(title = \"Weather Station Data used\")\n",
    "fig.show()"
   ]
  },
  {
   "cell_type": "markdown",
   "id": "838ad9ba",
   "metadata": {},
   "source": [
    "From the figure above, we can comfirm there is enough data coverage. Thus the data is processed further and grouped by the dates, then the values are adjusted since the numbers provided are in 0.1 increments according to the official documentation."
   ]
  },
  {
   "cell_type": "code",
   "execution_count": null,
   "id": "bda882e4",
   "metadata": {},
   "outputs": [],
   "source": [
    "#precess data\n",
    "df_weather.columns = [\"STN\", \"dates\", \"windspeed\",\"windspeed_max\",\"temperature\",\"rain_duration\",\"rain_amount\", \"visibility\"]#rename col\n",
    "df_weather = df_weather.drop(columns=[\"STN\"])\n",
    "df_weather[df_weather.columns.difference([\"dates\"])] = df_weather[df_weather.columns.difference([\"dates\"])].apply(pd.to_numeric, errors=\"coerce\")\n",
    "\n",
    "df_weather_mean = df_weather.groupby([\"dates\"], as_index=False).mean(numeric_only=True)\n",
    "df_weather_mean[df_weather_mean.columns.difference([\"dates\", \"visibility\"])] = df_weather_mean[df_weather_mean.columns.difference([\"dates\", \"visibility\"])]*0.1\n",
    "\n",
    "\n",
    "df_weather_mean[\"dates\"] = pd.to_datetime(df_weather_mean[\"dates\"], format=\"%Y%m%d\")\n",
    "df_weather_mean.head()"
   ]
  },
  {
   "cell_type": "markdown",
   "id": "a8dac9ad",
   "metadata": {},
   "source": [
    "After processing the data, graphs can be made showing the windspeed, temperature and rain_amount in 2023 so far. "
   ]
  },
  {
   "cell_type": "code",
   "execution_count": null,
   "id": "ec4f0582",
   "metadata": {},
   "outputs": [],
   "source": [
    "#plot the weather\n",
    "fig = px.line(df_weather_mean, x=\"dates\", y=\"windspeed\", title=\"Average windspeed data (m/s)\")\n",
    "fig.show()"
   ]
  },
  {
   "cell_type": "code",
   "execution_count": null,
   "id": "2d875ff0",
   "metadata": {},
   "outputs": [],
   "source": [
    "fig = px.line(df_weather_mean, x=\"dates\", y=\"temperature\", title=\"Average temperature data (C)\")\n",
    "fig.show()"
   ]
  },
  {
   "cell_type": "code",
   "execution_count": null,
   "id": "d080fb4f",
   "metadata": {},
   "outputs": [],
   "source": [
    "fig = px.line(df_weather_mean, x=\"dates\", y=\"rain_amount\", title=\"Average rain data (mm/hr)\")\n",
    "fig.show()"
   ]
  },
  {
   "cell_type": "markdown",
   "id": "c402a171",
   "metadata": {},
   "source": [
    "### OV chipkaart data"
   ]
  },
  {
   "cell_type": "markdown",
   "id": "b91b2533",
   "metadata": {},
   "source": [
    "Here, the OV check in data is imported. The number of check-ins is given in 1000's, so that column is multiplied by 1000. The data is then grouped per day and summed. A graph displaying check-ins per day in 2023 so far is shown. "
   ]
  },
  {
   "cell_type": "code",
   "execution_count": null,
   "id": "e32eda7c",
   "metadata": {},
   "outputs": [],
   "source": [
    "#reading\n",
    "file = \"Literature and Data/20230908_Instappers_per_uur_export_V3.csv\"\n",
    "df_OV = pd.read_csv(file)\n",
    "\n",
    "#processing\n",
    "df_OV[\"Aantal_check_ins\"] = df_OV[\"Aantal_check_ins\"] * 1000\n",
    "df_OV[\"Aantal_check_ins\"] = df_OV[\"Aantal_check_ins\"].astype(\"int\")\n",
    "df_OV_sum = df_OV.groupby(by=\"Datum\", sort=False)[\"Aantal_check_ins\"].sum().reset_index()\n",
    "df_OV_sum[\"Datum\"] = pd.to_datetime(df_OV_sum[\"Datum\"], format=\"%d-%m-%Y\")\n",
    "df_OV_sum.head()\n",
    "\n",
    "#plotting\n",
    "fig = px.line(df_OV_sum, x=\"Datum\", y=\"Aantal_check_ins\", title=\"Number of check-ins in 2023\")\n",
    "fig.update_layout(xaxis_title=\"Date\", yaxis_title=\"Number of OV check-ins\")\n",
    "fig.show()"
   ]
  },
  {
   "cell_type": "markdown",
   "id": "6d6d3c12",
   "metadata": {},
   "source": [
    "### Congestion Data"
   ]
  },
  {
   "cell_type": "markdown",
   "id": "c90d020b",
   "metadata": {},
   "source": [
    "The following code was used to convert 10 seperate Excel files containing congestion data of each month of 2023 up until October to one Pickle file. It was run once, and then commented as it is not necessary to run it again. Then, the Pickle file is unpickled, and the data stored in a dataframe. The data is processed and then summed per day. "
   ]
  },
  {
   "cell_type": "code",
   "execution_count": null,
   "id": "a9db3401",
   "metadata": {},
   "outputs": [],
   "source": [
    "# df_cong = pd.DataFrame()\n",
    "# months = [\"jan\", \"feb\", \"mar\", \"apr\", \"mei\", \"jun\", \"jul\", \"aug\", \"sep\", \"okt\"]\n",
    "# for i in months:\",\n",
    "#     month = pd.read_excel(\"Literature and Data/Congestion_data_2022/\" + i + \".xlsx)\n",
    "#     df_cong = pd.concat([df_cong, month])\n",
    "#     print(i)\n",
    "\n",
    "# df_cong.to_pickle(\"Literature and data/df_cong_pickle.pkl\")"
   ]
  },
  {
   "cell_type": "code",
   "execution_count": null,
   "id": "9f8990ad",
   "metadata": {},
   "outputs": [],
   "source": [
    "unpickled_df_cong = pd.read_pickle(\"Literature and data/df_cong_pickle.pkl\").reset_index() \n",
    "df_cong_filt = unpickled_df_cong[[\"DatumFileBegin\", \"TijdFileBegin\", \"TijdFileEind\", \"FileZwaarte\", \"Oorzaak_4\"]]\n",
    "\n",
    "df_cong_filt[\"FileZwaarte\"] = df_cong_filt[\"FileZwaarte\"].str.replace(\",\", \".\", regex=True).astype(float) #replace decimal indicators to be able to sum\n",
    "# df_cong_filt.head(30)\n",
    "df_cong_grouped = df_cong_filt.groupby(\"DatumFileBegin\")[\"FileZwaarte\"].sum().reset_index()\n",
    "df_cong_grouped.head()\n",
    "#The warning this gives is not a thing to worry about. "
   ]
  },
  {
   "cell_type": "markdown",
   "id": "d8ec9ee5",
   "metadata": {},
   "source": [
    "The congestion severity data is displayed in a graph.Two data points with severe bad weather are highlighted. It can be seen that these days are outliers in terms of congestion. It should be noted that on April 6th, the congestion was also made worse because a lot of people were travelling due to the Easter weekend. "
   ]
  },
  {
   "cell_type": "code",
   "execution_count": null,
   "id": "94b4e337",
   "metadata": {},
   "outputs": [],
   "source": [
    "fig = px.line(df_cong_grouped, x=\"DatumFileBegin\", y=\"FileZwaarte\", title=\"Congestion severity per day\")\n",
    "fig.update_layout(xaxis_title=\"Date\", yaxis_title=\"Congestion severity (km*min)\")\n",
    "# df_cong_grouped[\"DatumFileBegin\"] = pd.to_datetime(df_cong_grouped[\"DatumFileBegin\"])\n",
    "# print(type(df_cong_grouped.iloc[95,0]))\n",
    "fig.add_trace(\n",
    "    go.Scatter(\n",
    "        x=[df_cong_grouped.iloc[95,0], df_cong_grouped.iloc[18,0]],\n",
    "        y=[df_cong_grouped.iloc[95,1], df_cong_grouped.iloc[18,1]],\n",
    "        mode=\"markers\",\n",
    "        name=\"Extraordinarily bad weather days\",\n",
    "        showlegend=True)\n",
    ")\n",
    "fig.update_layout(legend=dict(\n",
    "    orientation=\"h\", \n",
    "    xanchor=\"right\",\n",
    "    y=1,\n",
    "    x=1\n",
    "))\n",
    "fig.show()"
   ]
  },
  {
   "cell_type": "markdown",
   "id": "b17156d5",
   "metadata": {},
   "source": [
    "## 4. Results\n",
    "(Answering the Sub Questions)\n"
   ]
  },
  {
   "cell_type": "markdown",
   "id": "37c97f9d",
   "metadata": {},
   "source": [
    "#### 1. What is the effect of weather on the amount of public transport passengers, based on OV chipcard checkins? And is there a correlation?"
   ]
  },
  {
   "cell_type": "markdown",
   "id": "30bb8245",
   "metadata": {},
   "source": []
  },
  {
   "cell_type": "code",
   "execution_count": null,
   "id": "c0e63d66",
   "metadata": {},
   "outputs": [],
   "source": [
    "df_OV_sum.rename(columns={\"Datum\":\"dates\"}, inplace=True)\n",
    "df_OV_weather = df_OV_sum.merge(df_weather_mean, on = \"dates\")\n",
    "df_OV_weather.head()"
   ]
  },
  {
   "cell_type": "code",
   "execution_count": null,
   "id": "8a0eb9a8",
   "metadata": {},
   "outputs": [],
   "source": [
    "#OV v Rain\n",
    "fig = make_subplots(specs=[[{\"secondary_y\": True}]])\n",
    "\n",
    "# Add traces\n",
    "fig.add_trace(\n",
    "    go.Scatter(x=df_OV_weather[\"dates\"], y=df_OV_weather[\"Aantal_check_ins\"], name=\"Check-ins\"),\n",
    "    secondary_y=False,\n",
    ")\n",
    "\n",
    "fig.add_trace(\n",
    "    go.Scatter(x=df_OV_weather[\"dates\"], y=df_OV_weather[\"rain_amount\"], name=\"Rain amount\"),\n",
    "    secondary_y=True,\n",
    ")\n",
    "\n",
    "# Add figure title\n",
    "fig.update_layout(\n",
    "    title_text=\"Rain Amount vs Check-ins\"\n",
    ")\n",
    "\n",
    "# Set x-axis title\n",
    "fig.update_xaxes(title_text=\"Dates\")\n",
    "\n",
    "# Set y-axes titles\n",
    "fig.update_yaxes(title_text=\"<b>Check-ins</b>\", secondary_y=False)\n",
    "fig.update_yaxes(title_text=\"<b>Avg Rain amount(mm/h)</b>\", secondary_y=True)\n",
    "\n",
    "fig.show()"
   ]
  },
  {
   "cell_type": "markdown",
   "id": "f29d7d62",
   "metadata": {},
   "source": []
  },
  {
   "cell_type": "code",
   "execution_count": null,
   "id": "5b15d912",
   "metadata": {},
   "outputs": [],
   "source": [
    "#OV v wind\n",
    "fig = make_subplots(specs=[[{\"secondary_y\": True}]])\n",
    "\n",
    "# Add traces\n",
    "fig.add_trace(\n",
    "    go.Scatter(x=df_OV_weather[\"dates\"], y=df_OV_weather[\"Aantal_check_ins\"], name=\"Check-ins\"),\n",
    "    secondary_y=False,\n",
    ")\n",
    "\n",
    "fig.add_trace(\n",
    "    go.Scatter(x=df_OV_weather[\"dates\"], y=df_OV_weather[\"windspeed\"], name=\"Wind Speed\"),\n",
    "    secondary_y=True,\n",
    ")\n",
    "\n",
    "# Add figure title\n",
    "fig.update_layout(\n",
    "    title_text=\"Wind speed vs Check-ins\"\n",
    ")\n",
    "\n",
    "# Set x-axis title\n",
    "fig.update_xaxes(title_text=\"Dates\")\n",
    "\n",
    "# Set y-axes titles\n",
    "fig.update_yaxes(title_text=\"<b>Check-ins</b>\", secondary_y=False)\n",
    "fig.update_yaxes(title_text=\"<b>Avg Wind Speed(m/s)</b>\", secondary_y=True)\n",
    "\n",
    "fig.show()"
   ]
  },
  {
   "cell_type": "markdown",
   "id": "bf25b8a8",
   "metadata": {},
   "source": []
  },
  {
   "cell_type": "code",
   "execution_count": null,
   "id": "0d4ecb7d",
   "metadata": {},
   "outputs": [],
   "source": [
    "#OV v Temps\n",
    "fig = make_subplots(specs=[[{\"secondary_y\": True}]])\n",
    "\n",
    "# Add traces\n",
    "fig.add_trace(\n",
    "    go.Scatter(x=df_OV_weather[\"dates\"], y=df_OV_weather[\"Aantal_check_ins\"], name=\"Check-ins\"),\n",
    "    secondary_y=False,\n",
    ")\n",
    "\n",
    "fig.add_trace(\n",
    "    go.Scatter(x=df_OV_weather[\"dates\"], y=df_OV_weather[\"temperature\"], name=\"Temperature\"),\n",
    "    secondary_y=True,\n",
    ")\n",
    "\n",
    "# Add figure title\n",
    "fig.update_layout(\n",
    "    title_text=\"Temperature vs Check-ins\"\n",
    ")\n",
    "\n",
    "# Set x-axis title\n",
    "fig.update_xaxes(title_text=\"Dates\")\n",
    "\n",
    "# Set y-axes titles\n",
    "fig.update_yaxes(title_text=\"<b>Check-ins</b>\", secondary_y=False)\n",
    "fig.update_yaxes(title_text=\"<b>Avg temperature(C)</b>\", secondary_y=True)\n",
    "\n",
    "fig.show()"
   ]
  },
  {
   "cell_type": "markdown",
   "id": "648c2013",
   "metadata": {},
   "source": []
  },
  {
   "cell_type": "code",
   "execution_count": null,
   "id": "88ec4b19",
   "metadata": {},
   "outputs": [],
   "source": [
    "#OV correlation test all\n",
    "OV_corr_rains = df_OV_weather[\"rain_amount\"].corr(df_OV_weather[\"Aantal_check_ins\"])\n",
    "OV_corr_wind = df_OV_weather[\"windspeed\"].corr(df_OV_weather[\"Aantal_check_ins\"])\n",
    "OV_corr_temps = df_OV_weather[\"temperature\"].corr(df_OV_weather[\"Aantal_check_ins\"])\n",
    "\n",
    "OV_corr_data = {\"WeatherTypes\": [\"Rain\", \"Wind\", \"Temps\"], \"Correlation\": [OV_corr_rains,OV_corr_wind,OV_corr_temps]}\n",
    "df_OV_corr = pd.DataFrame(OV_corr_data)\n",
    "\n",
    "fig = px.bar(df_OV_corr, x=\"WeatherTypes\", y=\"Correlation\", color=\"WeatherTypes\",text_auto=True, title=\"Correlation between Weather condiditions and OV-checkins(All data)\")\n",
    "fig.show()"
   ]
  },
  {
   "cell_type": "markdown",
   "id": "8d8650a0",
   "metadata": {},
   "source": [
    "#### 2. Is there a difference in public transport behaviour between weekdays and weekend?"
   ]
  },
  {
   "cell_type": "markdown",
   "id": "8b6d48ca",
   "metadata": {},
   "source": []
  },
  {
   "cell_type": "code",
   "execution_count": null,
   "id": "08a77df6",
   "metadata": {},
   "outputs": [],
   "source": [
    "df_OV_sum[\"dates\"] = pd.to_datetime(df_OV_sum[\"dates\"], format=\"%d-%m-%Y\")\n",
    "\n",
    "df_OV_weekends = df_OV_sum[(df_OV_sum[\"dates\"].dt.dayofweek == 5) | (df_OV_sum[\"dates\"].dt.dayofweek == 6)]\n",
    "fig = px.line(df_OV_weekends, x=\"dates\", y=\"Aantal_check_ins\", title=\"Number of check-ins on weekend days 2023\")\n",
    "fig.update_xaxes(title_text=\"Date\")\n",
    "fig.update_yaxes(title_text=\"Number of OV check-ins\")\n",
    "\n",
    "fig.show()"
   ]
  },
  {
   "cell_type": "markdown",
   "id": "6f538423",
   "metadata": {},
   "source": []
  },
  {
   "cell_type": "code",
   "execution_count": null,
   "id": "75b1791f",
   "metadata": {},
   "outputs": [],
   "source": [
    "df_OV_weekends.rename(columns={\"Datum\":\"dates\"}, inplace=True)\n",
    "df_OV_weather_weekends = df_OV_weekends.merge(df_weather_mean, on = \"dates\")\n",
    "\n",
    "#OV correlation test weekends\n",
    "OV_corr_rains_weekends = df_OV_weather_weekends[\"rain_amount\"].corr(df_OV_weather_weekends[\"Aantal_check_ins\"])\n",
    "OV_corr_wind_weekends = df_OV_weather_weekends[\"windspeed\"].corr(df_OV_weather_weekends[\"Aantal_check_ins\"])\n",
    "OV_corr_temps_weekends = df_OV_weather_weekends[\"temperature\"].corr(df_OV_weather_weekends[\"Aantal_check_ins\"])\n",
    "\n",
    "OV_corr_data_weekends = {\"WeatherTypes\": [\"Rain\", \"Wind\", \"Temps\"], \"Correlation\": [OV_corr_rains_weekends,OV_corr_wind_weekends,OV_corr_temps_weekends]}\n",
    "df_OV_corr_weekends = pd.DataFrame(OV_corr_data_weekends)\n",
    "\n",
    "fig = px.bar(df_OV_corr_weekends, x=\"WeatherTypes\", y=\"Correlation\", color=\"WeatherTypes\",text_auto=True, title=\"Correlation between Weather condiditions and OV-checkins(weekends data)\")\n",
    "fig.show()"
   ]
  },
  {
   "cell_type": "markdown",
   "id": "953f8a35",
   "metadata": {},
   "source": []
  },
  {
   "cell_type": "markdown",
   "id": "42564590",
   "metadata": {},
   "source": [
    "#### 3. What is the effect of weather on road traffic, based on highway congestion data?  And is there a correlation?"
   ]
  },
  {
   "cell_type": "markdown",
   "id": "9eb98f2b",
   "metadata": {},
   "source": []
  },
  {
   "cell_type": "code",
   "execution_count": null,
   "id": "49e5b44d",
   "metadata": {},
   "outputs": [],
   "source": [
    "df_cong_grouped.rename(columns={\"DatumFileBegin\":\"dates\"}, inplace=True)\n",
    "df_cong_weather = df_cong_grouped.merge(df_weather_mean, on = \"dates\")\n",
    "df_cong_weather.head()"
   ]
  },
  {
   "cell_type": "markdown",
   "id": "a5a99145",
   "metadata": {},
   "source": []
  },
  {
   "cell_type": "code",
   "execution_count": null,
   "id": "c52715e9",
   "metadata": {},
   "outputs": [],
   "source": [
    "#congestion v rain\n",
    "fig = make_subplots(specs=[[{\"secondary_y\": True}]])\n",
    "\n",
    "# Add traces\n",
    "fig.add_trace(\n",
    "    go.Scatter(x=df_cong_weather[\"dates\"], y=df_cong_weather[\"FileZwaarte\"], name=\"Congestions\"),\n",
    "    secondary_y=False,\n",
    ")\n",
    "\n",
    "fig.add_trace(\n",
    "    go.Scatter(x=df_cong_weather[\"dates\"], y=df_cong_weather[\"rain_amount\"], name=\"Rain amount\"),\n",
    "    secondary_y=True,\n",
    ")\n",
    "\n",
    "# Add figure title\n",
    "fig.update_layout(\n",
    "    title_text=\"Rain amount vs Congestion severity\"\n",
    ")\n",
    "\n",
    "# Set x-axis title\n",
    "fig.update_xaxes(title_text=\"Dates\")\n",
    "\n",
    "# Set y-axes titles\n",
    "fig.update_yaxes(title_text=\"<b>Congestion severity (km*min)</b>\", secondary_y=False)\n",
    "fig.update_yaxes(title_text=\"<b>Avg Rain amount(mm/h)</b>\", secondary_y=True)\n",
    "\n",
    "fig.show()"
   ]
  },
  {
   "cell_type": "markdown",
   "id": "67a0b7af",
   "metadata": {},
   "source": []
  },
  {
   "cell_type": "code",
   "execution_count": null,
   "id": "81dde0df",
   "metadata": {},
   "outputs": [],
   "source": [
    "#congestion v rain\n",
    "fig = make_subplots(specs=[[{\"secondary_y\": True}]])\n",
    "\n",
    "# Add traces\n",
    "fig.add_trace(\n",
    "    go.Scatter(x=df_cong_weather[\"dates\"], y=df_cong_weather[\"FileZwaarte\"], name=\"Congestions\"),\n",
    "    secondary_y=False,\n",
    ")\n",
    "\n",
    "fig.add_trace(\n",
    "    go.Scatter(x=df_cong_weather[\"dates\"], y=df_cong_weather[\"windspeed\"], name=\"Wind speed\"),\n",
    "    secondary_y=True,\n",
    ")\n",
    "\n",
    "# Add figure title\n",
    "fig.update_layout(\n",
    "    title_text=\"Wind speed vs Congestion severity\"\n",
    ")\n",
    "\n",
    "# Set x-axis title\n",
    "fig.update_xaxes(title_text=\"Dates\")\n",
    "\n",
    "# Set y-axes titles\n",
    "fig.update_yaxes(title_text=\"<b>Congestion severity (km*min)</b>\", secondary_y=False)\n",
    "fig.update_yaxes(title_text=\"<b>Avg Wind Speed(m/s)</b>\", secondary_y=True)\n",
    "\n",
    "fig.show()"
   ]
  },
  {
   "cell_type": "markdown",
   "id": "e7b82b3a",
   "metadata": {},
   "source": []
  },
  {
   "cell_type": "code",
   "execution_count": null,
   "id": "ef1f35c6",
   "metadata": {},
   "outputs": [],
   "source": [
    "#Congestion v Temps\n",
    "fig = make_subplots(specs=[[{\"secondary_y\": True}]])\n",
    "\n",
    "# Add traces\n",
    "fig.add_trace(\n",
    "    go.Scatter(x=df_cong_weather[\"dates\"], y=df_cong_weather[\"FileZwaarte\"], name=\"Congestions\"),\n",
    "    secondary_y=False,\n",
    ")\n",
    "\n",
    "fig.add_trace(\n",
    "    go.Scatter(x=df_cong_weather[\"dates\"], y=df_cong_weather[\"temperature\"], name=\"Temperature\"),\n",
    "    secondary_y=True,\n",
    ")\n",
    "\n",
    "# Add figure title\n",
    "fig.update_layout(\n",
    "    title_text=\"Temperature vs Congestion severity\"\n",
    ")\n",
    "\n",
    "# Set x-axis title\n",
    "fig.update_xaxes(title_text=\"Dates\")\n",
    "\n",
    "# Set y-axes titles\n",
    "fig.update_yaxes(title_text=\"<b>Congestion severity (km*min)</b>\", secondary_y=False)\n",
    "fig.update_yaxes(title_text=\"<b>Avg Temperature(C)</b>\", secondary_y=True)\n",
    "\n",
    "fig.show()"
   ]
  },
  {
   "cell_type": "markdown",
   "id": "502dc14c",
   "metadata": {},
   "source": []
  },
  {
   "cell_type": "code",
   "execution_count": null,
   "id": "5a9244cd",
   "metadata": {},
   "outputs": [],
   "source": [
    "#correlation test all\n",
    "cong_corr_rains = df_cong_weather[\"rain_amount\"].corr(df_cong_weather[\"FileZwaarte\"])\n",
    "cong_corr_wind = df_cong_weather[\"windspeed\"].corr(df_cong_weather[\"FileZwaarte\"])\n",
    "cong_corr_temps = df_cong_weather[\"temperature\"].corr(df_cong_weather[\"FileZwaarte\"])\n",
    "\n",
    "cong_corr_data = {\"WeatherTypes\": [\"Rain\", \"Wind\", \"Temps\"], \"Correlation\": [cong_corr_rains,cong_corr_wind,cong_corr_temps]}\n",
    "df_cong_corr = pd.DataFrame(cong_corr_data)\n",
    "\n",
    "fig = px.bar(df_cong_corr, x=\"WeatherTypes\", y=\"Correlation\", color=\"WeatherTypes\",text_auto=True, title=\"Correlation between Weather condiditions and congestion(All data)\")\n",
    "fig.show()"
   ]
  },
  {
   "cell_type": "markdown",
   "id": "2779c02e",
   "metadata": {},
   "source": []
  },
  {
   "cell_type": "markdown",
   "id": "87df1e41",
   "metadata": {},
   "source": [
    "#### 4. Is there a difference in road traffic behaviour between weekdays and weekend?"
   ]
  },
  {
   "cell_type": "code",
   "execution_count": null,
   "id": "497cf340",
   "metadata": {},
   "outputs": [],
   "source": [
    "df_cong_grouped[\"dates\"] = pd.to_datetime(df_cong_grouped[\"dates\"])\n",
    "df_cong_grouped[\"DayOfWeek\"] = df_cong_grouped[\"dates\"].dt.day_name()\n",
    "\n",
    "# Filter gegevens voor weekenddagen in 2023\n",
    "df_cong_weekends = df_cong_grouped[(df_cong_grouped[\"DayOfWeek\"].isin([\"Saturday\", \"Sunday\"]))]\n",
    "\n",
    "fig = px.line(df_cong_weekends, x=\"dates\", y=\"FileZwaarte\", title=\"Congestion in the weekends\")\n",
    "fig.update_layout(xaxis_title=\"Date\", yaxis_title=\"Congestion severity (km*min)\")\n",
    "\n",
    "df_cong_weekends.head()\n",
    "fig.show()"
   ]
  },
  {
   "cell_type": "markdown",
   "id": "4b6b4668",
   "metadata": {},
   "source": []
  },
  {
   "cell_type": "code",
   "execution_count": null,
   "id": "b5869da4",
   "metadata": {},
   "outputs": [],
   "source": [
    "df_cong_grouped[\"dates\"] = pd.to_datetime(df_cong_grouped[\"dates\"])\n",
    "df_cong_grouped[\"DayOfWeek\"] = df_cong_grouped[\"dates\"].dt.day_name()\n",
    "\n",
    "# Filter gegevens voor weekenddagen in 2023\n",
    "df_cong_weekends = df_cong_grouped[(df_cong_grouped[\"DayOfWeek\"].isin([\"Saturday\", \"Sunday\"]))]\n",
    "\n",
    "fig = px.line(df_cong_weekends, x=\"dates\", y=\"FileZwaarte\", title=\"Congestion in the weekends\")\n",
    "fig.update_layout(xaxis_title=\"Date\", yaxis_title=\"Congestion severity (km*min)\")\n",
    "\n",
    "df_cong_weekends.head()\n",
    "fig.show()"
   ]
  },
  {
   "cell_type": "markdown",
   "id": "5d2edcf8",
   "metadata": {},
   "source": []
  },
  {
   "cell_type": "code",
   "execution_count": null,
   "id": "f88e7f14",
   "metadata": {},
   "outputs": [],
   "source": [
    "df_cong_weekends.rename(columns={\"DatumFileBegin\":\"dates\"}, inplace=True)\n",
    "df_cong_w_weekends = df_cong_weekends.merge(df_weather_mean, on = \"dates\")\n",
    "\n",
    "#correlation test weekends\n",
    "cong_corr_rains_weekends = df_cong_w_weekends[\"rain_amount\"].corr(df_cong_w_weekends[\"FileZwaarte\"])\n",
    "cong_corr_wind_weekends = df_cong_w_weekends[\"windspeed\"].corr(df_cong_w_weekends[\"FileZwaarte\"])\n",
    "cong_corr_temps_weekends = df_cong_w_weekends[\"temperature\"].corr(df_cong_w_weekends[\"FileZwaarte\"])\n",
    "\n",
    "cong_corr_data_weekends = {\"WeatherTypes\": [\"Rain\", \"Wind\", \"Temps\"], \"Correlation\": [cong_corr_rains_weekends,cong_corr_wind_weekends,cong_corr_temps_weekends]}\n",
    "df_cong_corr_weekends = pd.DataFrame(cong_corr_data_weekends)\n",
    "\n",
    "fig = px.bar(df_cong_corr_weekends, x=\"WeatherTypes\", y=\"Correlation\", color=\"WeatherTypes\",text_auto=True, title=\"Correlation between Weather condiditions and congestion(weekends data)\")\n",
    "fig.show()"
   ]
  },
  {
   "cell_type": "markdown",
   "id": "1a4afee7",
   "metadata": {},
   "source": []
  },
  {
   "cell_type": "markdown",
   "id": "8074e3b7",
   "metadata": {},
   "source": [
    "#### 5. Is there a difference in road behaviour between Randstad and Area out side of Randstad?"
   ]
  },
  {
   "cell_type": "markdown",
   "id": "55969d42",
   "metadata": {},
   "source": [
    "To investigate the difference between areas, the orginal weather data need to be split. The shape file of the randstad area and the weather station are graphed on the same plot, so the stations can be observed visually if it is in the area or not."
   ]
  },
  {
   "cell_type": "code",
   "execution_count": null,
   "id": "c7fc2f73",
   "metadata": {},
   "outputs": [],
   "source": [
    "# read my geo dataframe\n",
    "gdf_randstad = \"Literature and data/Randstad_SHP/Randstad.shp\"\n",
    "gdf_randstad = gpd.read_file(gdf_randstad)\n",
    "gdf_randstad = gdf_randstad.to_crs(\"WGS84\")"
   ]
  },
  {
   "cell_type": "code",
   "execution_count": null,
   "id": "fa4dbf6d",
   "metadata": {},
   "outputs": [],
   "source": [
    "px.set_mapbox_access_token(\"pk.eyJ1IjoiaHN1YW4tc2hhbmUiLCJhIjoiY2xvMnB3b2NqMDl3YzJpbW56eWxnNHRrNSJ9.zJi-0PqhXOPzbqZ973FdxA\")\n",
    "fig = px.scatter_mapbox(df_station_data, lat=\"LAT(north)\", lon=\"LON(east)\", color=\"hasraindata\", zoom = 5, hover_name=\"NAME\", labels={\"hasraindata\":\"Rain data collection\"})\n",
    "fig.update_layout(title = \"Weather Station Data used\")\n",
    "\n",
    "fig.update_layout(\n",
    "    coloraxis_showscale=False,\n",
    "    title = \"Weather stations and randstad area\",\n",
    "    mapbox={\n",
    "        \"style\":\"carto-positron\",\n",
    "        \"layers\": [\n",
    "            {\n",
    "                \"source\": gdf_randstad[\"geometry\"].__geo_interface__,\n",
    "                \"type\": \"line\",\n",
    "                \"color\": \"orange\"\n",
    "            }\n",
    "        ]\n",
    "    },\n",
    ")\n",
    "fig.show()"
   ]
  },
  {
   "cell_type": "markdown",
   "id": "1d1ad68d",
   "metadata": {},
   "source": [
    "From the map above, the stations in the randstad area are: Hoek van Holland, Rotterdam Geulhaven, Cabauw Mast, De Bilt, Voorschoten, Schiphol, and Wijk aan Zee. Then the weather data are give a flag of boolean, indicating if it is in the randstad area."
   ]
  },
  {
   "cell_type": "code",
   "execution_count": null,
   "id": "d3b86554",
   "metadata": {},
   "outputs": [],
   "source": [
    "#filter randstad stations\n",
    "list_stn_randstad = [\"Hoek van Holland\", \"Rotterdam Geulhaven\", \"Cabauw Mast\", \"De Bilt\", \"Voorschoten\", \"Schiphol\", \"Wijk aan Zee\"]\n",
    "df_station_name[\"randstad\"] = df_station_name[\"NAME\"].str.contains(\"|\".join(list_stn_randstad))\n",
    "df_station_name.head()        "
   ]
  },
  {
   "cell_type": "code",
   "execution_count": null,
   "id": "26deda24",
   "metadata": {},
   "outputs": [],
   "source": [
    "df_weather = pd.read_csv(\"Literature and data/KNMI_daily_0123-0923.csv\")\n",
    "df_weather.columns = df_weather.columns.str.strip()\n",
    "df_weather.columns = [\"STN\", \"dates\", \"windspeed\",\"windspeed_max\",\"temperature\",\"rain_duration\",\"rain_amount\", \"visibility\"]#rename col\n",
    "df_weather_randstad = df_station_name.merge(df_weather,on=\"STN\")\n",
    "\n",
    "df_weather_randstad[df_weather_randstad.columns.difference([\"dates\"])] = df_weather_randstad[df_weather_randstad.columns.difference([\"dates\"])].apply(pd.to_numeric, errors=\"coerce\")\n",
    "\n",
    "\n",
    "df_weather_randstad_mean = df_weather_randstad.groupby([\"randstad\",\"dates\"], as_index=False).mean(numeric_only=True)\n",
    "df_weather_randstad_mean[df_weather_randstad_mean.columns.difference([\"dates\", \"visibility\",\"randstad\"])] = df_weather_randstad_mean[df_weather_randstad_mean.columns.difference([\"dates\", \"visibility\",\"randstad\"])]*0.1\n",
    "\n",
    "df_weather_randstad_mean[\"dates\"] = pd.to_datetime(df_weather_randstad_mean[\"dates\"], format=\"%Y%m%d\")\n",
    "df_weather_randstad_mean.head()"
   ]
  },
  {
   "cell_type": "markdown",
   "id": "0fadeb89",
   "metadata": {},
   "source": []
  },
  {
   "cell_type": "code",
   "execution_count": null,
   "id": "cb6d9a3f",
   "metadata": {},
   "outputs": [],
   "source": [
    "fig = px.line(df_weather_randstad_mean, x=\"dates\", y=\"rain_amount\", color=\"randstad\", title=\"Average Rain amount of Randstad artea vs others\")\n",
    "fig.show()"
   ]
  },
  {
   "cell_type": "markdown",
   "id": "9a2f3423",
   "metadata": {},
   "source": [
    "Then the congestion data is process by filtering it with a list of cities and towns in the randstad. The column \"KopWegvakVan\" is where the area before the congestions are, so it is selected as the origin of traffic for our purpose"
   ]
  },
  {
   "cell_type": "code",
   "execution_count": null,
   "id": "2efd2176",
   "metadata": {},
   "outputs": [],
   "source": [
    "unpickled_df_cong = pd.read_pickle(\"Literature and data/df_cong_pickle.pkl\").reset_index() \n",
    "df_cong_filt = unpickled_df_cong[[\"DatumFileBegin\", \"TijdFileBegin\", \"TijdFileEind\", \"FileZwaarte\", \"Oorzaak_4\", \"KopWegvakVan\"]]\n",
    "df_cong_filt[\"FileZwaarte\"] = df_cong_filt[\"FileZwaarte\"].str.replace(\",\", \".\", regex=True).astype(float)\n",
    "\n",
    "list_cong_randstad = [\"Almere\", \"Amsterdam\", \"Delft\", \"Dordrecht\", \"Haarlem\",\n",
    "                      \"Den Haag\", \"Leiden\", \"Rotterdam\", \"Utrecht\", \"Zoetermeer\", \n",
    "                      \"Alkmaar\", \"Alphen aan den Rijn\", \"Amersfoort\", \"Amstelveen\", \n",
    "                      \"Capelle aan den IJssel\", \"Gouda\", \"Heerhugowaard\", \"Hilversum\", \n",
    "                      \"Hoofddorp\", \"Hoorn\", \"Lelystad\", \"Nieuwegein\", \"Purmerend\", \n",
    "                      \"Rijswijk\", \"Schiedam\", \"Spijkenisse\", \"Vlaardingen\", \"Zaandam\", \"Zeist\"]\n",
    "\n",
    "df_cong_filt[\"randstad\"] = df_cong_filt[\"KopWegvakVan\"].str.contains(\"|\".join(list_cong_randstad))\n",
    "# df_cong_filt.head(30)\n",
    "df_cong_randstad_grouped = df_cong_filt.groupby([\"randstad\",\"DatumFileBegin\"])[\"FileZwaarte\"].sum().reset_index()\n",
    "df_cong_randstad_grouped.head()"
   ]
  },
  {
   "cell_type": "code",
   "execution_count": null,
   "id": "2215622e",
   "metadata": {},
   "outputs": [],
   "source": [
    "fig = px.line(df_cong_randstad_grouped, x=\"DatumFileBegin\", y=\"FileZwaarte\",color=\"randstad\", title=\"Congestion severity per day (Randstad area vs others)\")\n",
    "fig.update_layout(xaxis_title=\"Date\", yaxis_title=\"Congestion severity (km*min)\")"
   ]
  },
  {
   "cell_type": "markdown",
   "id": "68f166c8",
   "metadata": {},
   "source": [
    "After processing two dataframes, they are merge on the column of dates and the randstad boolean flag. For further correlation calculations and plotting."
   ]
  },
  {
   "cell_type": "code",
   "execution_count": null,
   "id": "af5141e2",
   "metadata": {},
   "outputs": [],
   "source": [
    "df_cong_randstad_grouped.rename(columns={\"DatumFileBegin\":\"dates\"}, inplace=True)\n",
    "df_cong_weather_randstad = df_cong_randstad_grouped.merge(df_weather_randstad_mean, on = [\"dates\",\"randstad\"])\n",
    "df_weather_randstad_mean.head()"
   ]
  },
  {
   "cell_type": "code",
   "execution_count": null,
   "id": "82fd7cbc",
   "metadata": {},
   "outputs": [],
   "source": [
    "df_cong_corr_randstad_rain = df_cong_weather_randstad.groupby(\"randstad\")[[\"rain_amount\",\"FileZwaarte\"]].corr().unstack()[[(\"rain_amount\", \"FileZwaarte\")]]\\\n",
    "    .reset_index()\n",
    "df_cong_corr_randstad_wind = df_cong_weather_randstad.groupby(\"randstad\")[[\"windspeed\",\"FileZwaarte\"]].corr().unstack()[[(\"windspeed\", \"FileZwaarte\")]]\\\n",
    "    .reset_index()\n",
    "df_cong_corr_randstad_temp = df_cong_weather_randstad.groupby(\"randstad\")[[\"temperature\",\"FileZwaarte\"]].corr().unstack()[[(\"temperature\", \"FileZwaarte\")]]\\\n",
    "    .reset_index()\n",
    "\n",
    "df_cong_corr_randstad = df_cong_corr_randstad_rain.merge(df_cong_corr_randstad_wind)\n",
    "df_cong_corr_randstad = df_cong_corr_randstad.merge(df_cong_corr_randstad_temp)\n",
    "df_cong_corr_randstad.columns = [\"Randstad\", \"Rain\", \"Wind\", \"Temps\"]\n",
    "df_cong_corr_randstad = df_cong_corr_randstad.melt(id_vars=[\"Randstad\"])"
   ]
  },
  {
   "cell_type": "code",
   "execution_count": null,
   "id": "11f64318",
   "metadata": {},
   "outputs": [],
   "source": [
    "fig = px.bar(df_cong_corr_randstad, x=\"variable\", y=\"value\", color=\"Randstad\",\n",
    "             barmode=\"group\", text_auto=True, labels={\n",
    "                     \"variable\": \"Weather Types\",\n",
    "                     \"value\": \"Correlation\",\n",
    "                     \"Randstad\": \"In Randstad Area\"},\n",
    "             title=\"Correlation between weather and congestion (Randstad area vs others)\")\n",
    "\n",
    "fig.show()"
   ]
  },
  {
   "cell_type": "markdown",
   "id": "eac9a4c9",
   "metadata": {},
   "source": [
    "Shown on the figures above, there is indeed a change of correlation of the two regions. Rain have bigger positive correlation on congestion in the Randstad area compared to the others. Meaning that when it rains, there is more likely to have a congestion in the the randstad area than the area outside. On the case of wind however, theres a change in the correlation values observed, but it is still a really small amount. So there is almost to none correlation of congestion to wind inside and outside of randstad. Then there's temperature, there's a stronger negative correlation inside of randstad. Meaning there will be much less traffic behavior when the weathers are hot inside of randstad than oustide. That could also be due to the summer holidays.\n"
   ]
  },
  {
   "cell_type": "markdown",
   "id": "0c2ae21a",
   "metadata": {},
   "source": [
    "## 5. Conclusion \n",
    "(Answering the Central Research Question)"
   ]
  },
  {
   "cell_type": "code",
   "execution_count": null,
   "id": "3c1e6c11",
   "metadata": {},
   "outputs": [],
   "source": []
  },
  {
   "cell_type": "markdown",
   "id": "79083008",
   "metadata": {},
   "source": [
    "## 6. Discussion \n",
    "(Limitations and directions for further research)"
   ]
  },
  {
   "cell_type": "code",
   "execution_count": null,
   "id": "d54d2a7e",
   "metadata": {},
   "outputs": [],
   "source": [
    "# Text"
   ]
  },
  {
   "cell_type": "markdown",
   "id": "1f7ba1fd",
   "metadata": {},
   "source": [
    "## 7. Contribution Statement"
   ]
  },
  {
   "cell_type": "markdown",
   "id": "5c589f9a",
   "metadata": {},
   "source": [
    "Hsuan-An Chu: Weather data collection and processing, Weather station data visualization, Correlation calculation and visualiztion, 2-axis line chart template.\n",
    "Cian Rippen: OV check-in and congestion data processing, OV check in and congestion data plotting over time, add bad weather indicators to peak congestion days"
   ]
  },
  {
   "cell_type": "markdown",
   "id": "77b93b3c",
   "metadata": {},
   "source": [
    "### References"
   ]
  },
  {
   "cell_type": "code",
   "execution_count": null,
   "id": "71604a1c",
   "metadata": {},
   "outputs": [],
   "source": []
  }
 ],
 "metadata": {
  "kernelspec": {
   "display_name": "Python 3 (ipykernel)",
   "language": "python",
   "name": "python3"
  },
  "language_info": {
   "codemirror_mode": {
    "name": "ipython",
    "version": 3
   },
   "file_extension": ".py",
   "mimetype": "text/x-python",
   "name": "python",
   "nbconvert_exporter": "python",
   "pygments_lexer": "ipython3",
   "version": "3.9.12"
  }
 },
 "nbformat": 4,
 "nbformat_minor": 5
}
