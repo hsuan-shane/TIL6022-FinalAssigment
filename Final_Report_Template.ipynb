{
 "cells": [
  {
   "cell_type": "markdown",
   "id": "f397910b",
   "metadata": {},
   "source": [
    "#                The Influence of the Weather on Travel Behaviour in the Netherlands\n",
    "### Project Group 04"
   ]
  },
  {
   "cell_type": "markdown",
   "id": "765da68c",
   "metadata": {},
   "source": [
    "*Members and Student Numbers:*\n",
    "\n",
    "Hsuan-An Chu: 5914647\\\n",
    "Jarrik Overbosch: 6105734\\\n",
    "Mats Poppe: 5883245\\\n",
    "Cian Rippen: 5054141\\\n",
    "Sam Terstappen: 6078720\n",
    "\n"
   ]
  },
  {
   "cell_type": "markdown",
   "id": "921ebf23",
   "metadata": {},
   "source": [
    "## 1. Introduction"
   ]
  },
  {
   "cell_type": "markdown",
   "id": "3944e6b5",
   "metadata": {},
   "source": [
    "## 2. Research Objective\n",
    "(Maybe use of SMART tool?)\n"
   ]
  },
  {
   "cell_type": "markdown",
   "id": "40d2b94f",
   "metadata": {},
   "source": [
    "## What is the influence of the weather on travel behaviour in The Netherlands?\n",
    "* What is the correlation between amount of percipitation and amount of transport passengers, based on OV chipcard checkins? \n",
    "* What is the effect of weather on road traffic?  \n",
    "* What is the correlation between the weather and congestion?\n",
    "* Is there a difference in behaviour between cities and rural areas?\n",
    "* Where do the tipping points of behaviour lie? (e.g.amount of rain that starts people to change their behaviour)\n",
    "\n",
    "(These maybe need some adjustments in the way they are formulated)"
   ]
  },
  {
   "cell_type": "markdown",
   "id": "9830dbb4",
   "metadata": {},
   "source": [
    "## 3. Data Pipeline\n",
    "(Explain what data we used and why)\n"
   ]
  },
  {
   "cell_type": "markdown",
   "id": "b17156d5",
   "metadata": {},
   "source": [
    "## 4. Results\n",
    "(Answering the Sub Questions)\n"
   ]
  },
  {
   "cell_type": "markdown",
   "id": "37c97f9d",
   "metadata": {},
   "source": [
    "##### 1. "
   ]
  },
  {
   "cell_type": "markdown",
   "id": "8d8650a0",
   "metadata": {},
   "source": [
    "##### 2."
   ]
  },
  {
   "cell_type": "markdown",
   "id": "42564590",
   "metadata": {},
   "source": [
    "##### 3. "
   ]
  },
  {
   "cell_type": "markdown",
   "id": "47bb3714",
   "metadata": {},
   "source": [
    "##### 4. "
   ]
  },
  {
   "cell_type": "markdown",
   "id": "5461f287",
   "metadata": {},
   "source": [
    "##### 5. "
   ]
  },
  {
   "cell_type": "markdown",
   "id": "0c2ae21a",
   "metadata": {},
   "source": [
    "## 5. Conclusion \n",
    "(Answering the Central Research Question)"
   ]
  },
  {
   "cell_type": "markdown",
   "id": "79083008",
   "metadata": {},
   "source": [
    "## 6. Discussion \n",
    "(Limitations and directions for further research)"
   ]
  },
  {
   "cell_type": "markdown",
   "id": "1f7ba1fd",
   "metadata": {},
   "source": [
    "## 7. Contribution Statement"
   ]
  }
 ],
 "metadata": {
  "kernelspec": {
   "display_name": "Python 3 (ipykernel)",
   "language": "python",
   "name": "python3"
  },
  "language_info": {
   "codemirror_mode": {
    "name": "ipython",
    "version": 3
   },
   "file_extension": ".py",
   "mimetype": "text/x-python",
   "name": "python",
   "nbconvert_exporter": "python",
   "pygments_lexer": "ipython3",
   "version": "3.11.4"
  }
 },
 "nbformat": 4,
 "nbformat_minor": 5
}
