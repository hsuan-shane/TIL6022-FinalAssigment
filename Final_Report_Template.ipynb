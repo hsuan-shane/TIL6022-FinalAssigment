{
 "cells": [
  {
   "cell_type": "markdown",
   "id": "f397910b",
   "metadata": {},
   "source": [
    "#                The Influence of the Weather on Travel Behaviour in the Netherlands\n",
    "### Project Group 04"
   ]
  },
  {
   "cell_type": "markdown",
   "id": "765da68c",
   "metadata": {},
   "source": [
    "*Members and Student Numbers:*\n",
    "\n",
    "Hsuan-An Chu: 5914647\\\n",
    "Jarrik Overbosch: 6105734\\\n",
    "Mats Poppe: 5883245\\\n",
    "Cian Rippen: 5054141\\\n",
    "Sam Terstappen: 6078720\n",
    "\n"
   ]
  },
  {
   "cell_type": "markdown",
   "id": "921ebf23",
   "metadata": {},
   "source": [
    "## 1. Introduction\n",
    "\n",
    "The Netherlands is a country known for its efficient transportation system and its dynamic weather patterns. The interplay between these two elements often goes unnoticed, yet it has a profound impact on the daily routines and travel behaviors of its residents. Understanding how weather influences travel behavior holds practical significance for transportation planning and climate adaptation. This report delves into the relationship between weather conditions and travel choices, seeking to answer critical questionsabout how the Dutch people adapt their travel behaviors in response to varying weather conditions.\n",
    "\n",
    "This study focuses on two primary domains: public transportation and road traffic. We aim to explore the extent to which these weather variables impact the number of passengers using public transport services, as recorded through OV chipcard check-ins. Additionally, we seek to ascertain how these weather conditions affect road traffic, with a particular emphasis on traffic congestion. Moreover, we aim to investigate potential variations in travel behavior between urban and rural areas, recognizing that the geography and infrastructure of different regions may shape the choices people make when it comes to commuting."
   ]
  },
  {
   "cell_type": "markdown",
   "id": "3944e6b5",
   "metadata": {},
   "source": [
    "## 2. Research Objective\n",
    "\n",
    "*The research objective is to investigate the impact of various weather factors, including precipitation, temperature, wind speed, rain duration, rain amount, and visibility, on travel behavior in the Netherlands, with a specific focus on public transportation usage, road traffic patterns, the correlation with congestion, and potential variations in behavior between urban and rural areas*.\n",
    "\n",
    "###### SMART Criteria \n",
    "#### Specific:\n",
    "The research objective precisely defines the scope and nature of the study, focusing on the specific influence of multiple weather variables on travel behavior in the Netherlands.\n",
    "#### Measurable:\n",
    "The objective is quantifiable, as it seeks to measure the impact of weather factors on travel behavior through observable and recorded data.\n",
    "#### Achievable:\n",
    "It is realistic to investigate the relationship between weather and travel behavior, considering the available resources and the feasibility of data collection and analysis.\n",
    "#### Relevant:\n",
    "This research is highly relevant in the context of transportation planning and climate adaptation, addressing a critical issue with practical implications.\n",
    "#### Time-bound: \n",
    "While not explicitly stated, the research is likely conducted within a defined timeframe of one month, ensuring it progresses in an organized and timely manner.\n",
    "\n",
    "\n"
   ]
  },
  {
   "cell_type": "markdown",
   "id": "40d2b94f",
   "metadata": {},
   "source": [
    "## What is the influence of the weather on travel behaviour in The Netherlands?\n",
    "* What is the correlation between amount of percipitation and amount of transport passengers, based on OV chipcard checkins? \n",
    "* What is the effect of weather on road traffic?  \n",
    "* What is the correlation between the weather and congestion?\n",
    "* Is there a difference in behaviour between cities and rural areas?\n",
    "\n",
    "\n",
    "(These maybe need some adjustments in the way they are formulated)"
   ]
  },
  {
   "cell_type": "markdown",
   "id": "9830dbb4",
   "metadata": {},
   "source": [
    "## 3. Data Pipeline\n",
    "(Explain what data we used and why)\n"
   ]
  },
  {
   "cell_type": "markdown",
   "id": "b17156d5",
   "metadata": {},
   "source": [
    "## 4. Results\n",
    "(Answering the Sub Questions)\n"
   ]
  },
  {
   "cell_type": "markdown",
   "id": "37c97f9d",
   "metadata": {},
   "source": [
    "##### 1. "
   ]
  },
  {
   "cell_type": "markdown",
   "id": "8d8650a0",
   "metadata": {},
   "source": [
    "##### 2."
   ]
  },
  {
   "cell_type": "markdown",
   "id": "42564590",
   "metadata": {},
   "source": [
    "##### 3. "
   ]
  },
  {
   "cell_type": "markdown",
   "id": "47bb3714",
   "metadata": {},
   "source": [
    "##### 4. "
   ]
  },
  {
   "cell_type": "markdown",
   "id": "5461f287",
   "metadata": {},
   "source": [
    "##### 5. "
   ]
  },
  {
   "cell_type": "markdown",
   "id": "0c2ae21a",
   "metadata": {},
   "source": [
    "## 5. Conclusion \n",
    "(Answering the Central Research Question)"
   ]
  },
  {
   "cell_type": "markdown",
   "id": "79083008",
   "metadata": {},
   "source": [
    "## 6. Discussion \n",
    "(Limitations and directions for further research)"
   ]
  },
  {
   "cell_type": "markdown",
   "id": "1f7ba1fd",
   "metadata": {},
   "source": [
    "## 7. Contribution Statement"
   ]
  }
 ],
 "metadata": {
  "kernelspec": {
   "display_name": "Python 3 (ipykernel)",
   "language": "python",
   "name": "python3"
  },
  "language_info": {
   "codemirror_mode": {
    "name": "ipython",
    "version": 3
   },
   "file_extension": ".py",
   "mimetype": "text/x-python",
   "name": "python",
   "nbconvert_exporter": "python",
   "pygments_lexer": "ipython3",
   "version": "3.11.4"
  }
 },
 "nbformat": 4,
 "nbformat_minor": 5
}
